{
 "cells": [
  {
   "cell_type": "markdown",
   "metadata": {
    "collapsed": true
   },
   "source": [
    "<div style=\"width:900px;background:pink;border:1px solid black;text-align:left;padding:8px;\">\n",
    "\n",
    "\n",
    "\n",
    "<p>\n",
    "<span style=\"color:black;font-size:14pt\"><b>Current workflow!</span></b>\n",
    "<br>\n",
    "<br><b>1. </b> EDA \n",
    "<br><b>2. </b> Format data into \"users to movies\" matrix, where each coordinate is the rating of a movie by a user\n",
    "<br><b>3. </b> Build SVD based recommender (SVD using scipiy.sparse.linalg), and test hyperparameters to get best RMSE\n",
    "<br><b>4. </b> Try simplier methods: Cosine similarity, get RMSE. \n",
    "<br><b>5. </b> Spark recommender (Not working well.. not familiar with the package. No time!!)\n",
    "\n",
    "<p>\n",
    "<span style=\"color:black;font-size:14pt\"><b>if got time...</span></b>\n",
    "<br><b>6. </b> Create website/app (probably website) where user can input what movies they have seen, and algo will return top K recommendations. User can upvote/downvote the recommendations. (Similar to movielens.org)\n",
    "<br><b>7. </b> Stack SVD with alternating least squares? \n",
    "\n",
    "\n",
    "<span style=\"color:black;font-size:14pt\"><b>Current problems</span></b>\n",
    "<br><b>1. </b> When performing SVD, interpreting what 'concepts' our singular values represent. \n",
    "\n",
    "\n",
    "Sources:\n",
    "\n",
    "https://grouplens.org/datasets/movielens/1m/\n",
    "\n",
    "https://beckernick.github.io/matrix-factorization-recommender/ "
   ]
  },
  {
   "cell_type": "markdown",
   "metadata": {},
   "source": [
    "### Data Dictionary\n",
    "\n",
    "\n",
    "RATINGS FILE DESCRIPTION\n",
    "================================================================================\n",
    "\n",
    "All ratings are contained in the file \"ratings.dat\" and are in the\n",
    "following format:\n",
    "\n",
    "UserID::MovieID::Rating::Timestamp\n",
    "\n",
    "- UserIDs range between 1 and 6040 \n",
    "- MovieIDs range between 1 and 3952\n",
    "- Ratings are made on a 5-star scale (whole-star ratings only)\n",
    "- Timestamp is represented in seconds since the epoch as returned by time(2)\n",
    "- Each user has at least 20 ratings\n",
    "\n",
    "### Sparsity: 95.5316%\n",
    "\n",
    "USERS FILE DESCRIPTION\n",
    "================================================================================\n",
    "\n",
    "User information is in the file \"users.dat\" and is in the following\n",
    "format:\n",
    "\n",
    "UserID::Gender::Age::Occupation::Zip-code\n",
    "\n",
    "All demographic information is provided voluntarily by the users and is\n",
    "not checked for accuracy.  Only users who have provided some demographic\n",
    "information are included in this data set.\n",
    "\n",
    "- Gender is denoted by a \"M\" for male and \"F\" for female\n",
    "- Age is chosen from the following ranges:\n",
    "\n",
    "\t*  1:  \"Under 18\"\n",
    "\t* 18:  \"18-24\"\n",
    "\t* 25:  \"25-34\"\n",
    "\t* 35:  \"35-44\"\n",
    "\t* 45:  \"45-49\"\n",
    "\t* 50:  \"50-55\"\n",
    "\t* 56:  \"56+\"\n",
    "\n",
    "- Occupation is chosen from the following choices:\n",
    "\n",
    "\t*  0:  \"other\" or not specified\n",
    "\t*  1:  \"academic/educator\"\n",
    "\t*  2:  \"artist\"\n",
    "\t*  3:  \"clerical/admin\"\n",
    "\t*  4:  \"college/grad student\"\n",
    "\t*  5:  \"customer service\"\n",
    "\t*  6:  \"doctor/health care\"\n",
    "\t*  7:  \"executive/managerial\"\n",
    "\t*  8:  \"farmer\"\n",
    "\t*  9:  \"homemaker\"\n",
    "\t* 10:  \"K-12 student\"\n",
    "\t* 11:  \"lawyer\"\n",
    "\t* 12:  \"programmer\"\n",
    "\t* 13:  \"retired\"\n",
    "\t* 14:  \"sales/marketing\"\n",
    "\t* 15:  \"scientist\"\n",
    "\t* 16:  \"self-employed\"\n",
    "\t* 17:  \"technician/engineer\"\n",
    "\t* 18:  \"tradesman/craftsman\"\n",
    "\t* 19:  \"unemployed\"\n",
    "\t* 20:  \"writer\"\n",
    "\n",
    "MOVIES FILE DESCRIPTION\n",
    "================================================================================\n",
    "\n",
    "Movie information is in the file \"movies.dat\" and is in the following\n",
    "format:\n",
    "\n",
    "MovieID::Title::Genres\n",
    "\n",
    "- Titles are identical to titles provided by the IMDB (including\n",
    "year of release)\n",
    "- Genres are pipe-separated and are selected from the following genres:\n",
    "\n",
    "\t* Action\n",
    "\t* Adventure\n",
    "\t* Animation\n",
    "\t* Children's\n",
    "\t* Comedy\n",
    "\t* Crime\n",
    "\t* Documentary\n",
    "\t* Drama\n",
    "\t* Fantasy\n",
    "\t* Film-Noir\n",
    "\t* Horror\n",
    "\t* Musical\n",
    "\t* Mystery\n",
    "\t* Romance\n",
    "\t* Sci-Fi\n",
    "\t* Thriller\n",
    "\t* War\n",
    "\t* Western\n",
    "\n",
    "- Some MovieIDs do not correspond to a movie due to accidental duplicate\n",
    "entries and/or test entries\n",
    "- Movies are mostly entered by hand, so errors and inconsistencies may exist"
   ]
  },
  {
   "cell_type": "code",
   "execution_count": 357,
   "metadata": {
    "collapsed": true
   },
   "outputs": [],
   "source": [
    "import pandas as pd\n",
    "import numpy as np\n",
    "import matplotlib.pyplot as plt\n",
    "import seaborn as sns\n",
    "%matplotlib inline\n",
    "np.random.seed(0)\n"
   ]
  },
  {
   "cell_type": "markdown",
   "metadata": {},
   "source": [
    "# I am using the Movielens 100k dataset. Last updated 10/2016.\n",
    "\n",
    "https://grouplens.org/datasets/movielens/"
   ]
  },
  {
   "cell_type": "code",
   "execution_count": 321,
   "metadata": {},
   "outputs": [],
   "source": [
    "movies_df = pd.read_csv('.\\ml-latest-small/movies.csv', names=['MovieID', 'Title', 'Genres'], header=0)\n",
    "ratings_df = pd.read_csv('.\\ml-latest-small/ratings.csv', names=['UserID', 'MovieID', 'Rating', 'Timestamp'], header=0)\n",
    "tags_df = pd.read_csv('.\\ml-latest-small/tags.csv', names=['UserID', 'MovieID', 'tag', 'Timestamp'], header=0)\n",
    "links_df = pd.read_csv('.\\ml-latest-small/links.csv', names=['MovieID', 'imdbId', 'tmbdId'], header=0)"
   ]
  },
  {
   "cell_type": "markdown",
   "metadata": {},
   "source": [
    "#### Cleaning the data"
   ]
  },
  {
   "cell_type": "code",
   "execution_count": 322,
   "metadata": {
    "collapsed": true
   },
   "outputs": [],
   "source": [
    "def striptitle(title):\n",
    "    charremove = [\"(\",\")\",\"-\"]\n",
    "    for i in charremove:\n",
    "        if i in title:\n",
    "            while i in title:\n",
    "                title = title.replace(i,\"\")\n",
    "    return title"
   ]
  },
  {
   "cell_type": "code",
   "execution_count": 323,
   "metadata": {},
   "outputs": [],
   "source": [
    "## A little bit of data cleaning.\n",
    "movies_df['MovieID'] = movies_df['MovieID'].apply(pd.to_numeric)\n",
    "\n",
    "#movies_df.Title has some movies not ending with the year. Clean that up a bit.\n",
    "to_fix = movies_df.Title[:].str[-6:].unique()[-4:]\n",
    "to_fix = '|'.join(to_fix)\n",
    "titles_fix = {'Hyena Road':'Hyena Road (2015)', 'The Lovers and the Despot': 'The Lovers and the Despot (2016)',\n",
    "             'Stranger Things': 'Stranger Things (2016)', \"Women of \\'69, Unboxed\":\"Women of \\'69, Unboxed (2014)\"}\n",
    "movies_df['Title'] = movies_df['Title'].replace(titles_fix)\n",
    "\n",
    "movies_df.Title.str[-6:]\n",
    "movies_df['Year'] = movies_df.Title.apply(lambda x: x[-6:])\n",
    "movies_df.Year = movies_df.Year.map(striptitle)\n",
    "movies_df.Year = pd.to_numeric(movies_df.Year)"
   ]
  },
  {
   "cell_type": "code",
   "execution_count": 324,
   "metadata": {},
   "outputs": [
    {
     "name": "stdout",
     "output_type": "stream",
     "text": [
      "(100004, 27)\n"
     ]
    }
   ],
   "source": [
    "movies_df_genres = movies_df.Genres.str.get_dummies()\n",
    "movies_df_genres\n",
    "eda_df = movies_df.join(movies_df_genres)\n",
    "eda_df = eda_df.merge(ratings_df, on='MovieID') \n",
    "#There are a few movies that are not rated.\n",
    "print eda_df.shape\n"
   ]
  },
  {
   "cell_type": "markdown",
   "metadata": {},
   "source": [
    "## 1. EDA. Let's explore the dataset!"
   ]
  },
  {
   "cell_type": "code",
   "execution_count": 366,
   "metadata": {},
   "outputs": [
    {
     "data": {
      "text/plain": [
       "(1950, 2025.3267908527052)"
      ]
     },
     "execution_count": 366,
     "metadata": {},
     "output_type": "execute_result"
    },
    {
     "data": {
      "image/png": "[encoded data removed]",
      "text/plain": [
       "<matplotlib.figure.Figure at 0x1417cda0>"
      ]
     },
     "metadata": {},
     "output_type": "display_data"
    }
   ],
   "source": [
    "eda_df.groupby('Title').size().sort_values(ascending=False)[:10]\n",
    "eda_df.groupby('Title').size().sort_values(ascending=False)[:10]\n",
    "\n",
    "distplot = sns.distplot(eda_df.Year)\n",
    "axes = distplot.axes\n",
    "axes.set_xlim(1950)"
   ]
  },
  {
   "cell_type": "markdown",
   "metadata": {},
   "source": [
    "### Bootstrap function"
   ]
  },
  {
   "cell_type": "code",
   "execution_count": 470,
   "metadata": {
    "collapsed": true
   },
   "outputs": [],
   "source": [
    "def RandomMovieFromYear(df,year):\n",
    "    randomchoice = np.random.choice(movies_df.loc[movies_df['Year'] ==year,'Year'].index)\n",
    "    return randomchoice"
   ]
  },
  {
   "cell_type": "code",
   "execution_count": 471,
   "metadata": {
    "collapsed": true
   },
   "outputs": [],
   "source": [
    "def bootstrapdf(df,count,year):\n",
    "    bootstrap = []\n",
    "    for i in np.arange(count):\n",
    "        bootstrap.append(RandomMovieFromYear(df,year))\n",
    "       \n",
    "    return df.iloc[bootstrap]\n",
    "    "
   ]
  },
  {
   "cell_type": "markdown",
   "metadata": {},
   "source": [
    "### Create balanced dataframe\n"
   ]
  },
  {
   "cell_type": "code",
   "execution_count": 486,
   "metadata": {
    "collapsed": true
   },
   "outputs": [],
   "source": [
    "def balancedbootstrapdf(df,count):\n",
    "    blankdf = df.drop(np.arange((df.shape[0])))\n",
    "    for i in df['Year'].unique():\n",
    "        subdf = bootstrapdf(df,count,i)\n",
    "        blankdf = pd.concat([blankdf,subdf])\n",
    "    return blankdf.reset_index(drop=True)\n",
    "        "
   ]
  },
  {
   "cell_type": "code",
   "execution_count": 487,
   "metadata": {},
   "outputs": [],
   "source": [
    "monte = balancedbootstrapdf(movies_df,1000)"
   ]
  },
  {
   "cell_type": "code",
   "execution_count": 478,
   "metadata": {},
   "outputs": [
    {
     "data": {
      "image/png": "[encoded data removed]",
      "text/plain": [
       "<matplotlib.figure.Figure at 0x248f0358>"
      ]
     },
     "metadata": {},
     "output_type": "display_data"
    }
   ],
   "source": [
    "monte.groupby('Title').size().sort_values(ascending=False)[:10]\n",
    "monte.groupby('Title').size().sort_values(ascending=False)[:10]\n",
    "\n",
    "distplot = sns.distplot(monte.Year)\n",
    "axes = distplot.axes\n",
    "#axes.set_xlim(1950)"
   ]
  },
  {
   "cell_type": "code",
   "execution_count": 489,
   "metadata": {},
   "outputs": [
    {
     "data": {
      "text/plain": [
       "9123"
      ]
     },
     "execution_count": 489,
     "metadata": {},
     "output_type": "execute_result"
    }
   ],
   "source": [
    "movies_df.Title.nunique()"
   ]
  },
  {
   "cell_type": "code",
   "execution_count": 485,
   "metadata": {},
   "outputs": [
    {
     "data": {
      "text/html": [
       "<div>\n",
       "<style>\n",
       "    .dataframe thead tr:only-child th {\n",
       "        text-align: right;\n",
       "    }\n",
       "\n",
       "    .dataframe thead th {\n",
       "        text-align: left;\n",
       "    }\n",
       "\n",
       "    .dataframe tbody tr th {\n",
       "        vertical-align: top;\n",
       "    }\n",
       "</style>\n",
       "<table border=\"1\" class=\"dataframe\">\n",
       "  <thead>\n",
       "    <tr style=\"text-align: right;\">\n",
       "      <th></th>\n",
       "      <th>MovieID</th>\n",
       "      <th>Title</th>\n",
       "      <th>Genres</th>\n",
       "      <th>Year</th>\n",
       "    </tr>\n",
       "  </thead>\n",
       "  <tbody>\n",
       "  </tbody>\n",
       "</table>\n",
       "</div>"
      ],
      "text/plain": [
       "Empty DataFrame\n",
       "Columns: [MovieID, Title, Genres, Year]\n",
       "Index: []"
      ]
     },
     "execution_count": 485,
     "metadata": {},
     "output_type": "execute_result"
    }
   ],
   "source": [
    "movies_df.loc[movies_df.MovieID == 6119]"
   ]
  },
  {
   "cell_type": "code",
   "execution_count": 439,
   "metadata": {},
   "outputs": [
    {
     "data": {
      "text/plain": [
       "array([1995, 1994, 1996, 1976, 1992, 1967, 1993, 1964, 1977, 1965, 1982,\n",
       "       1990, 1991, 1989, 1937, 1940, 1969, 1981, 1973, 1970, 1960, 1955,\n",
       "       1959, 1968, 1988, 1948, 1950, 1997, 1956, 1958, 1972, 1943, 1952,\n",
       "       1951, 1957, 1961, 1954, 1934, 1944, 1963, 1942, 1941, 1953, 1939,\n",
       "       1946, 1945, 1938, 1947, 1935, 1936, 1926, 1949, 1932, 1985, 1975,\n",
       "       1974, 1971, 1979, 1987, 1986, 1980, 1978, 1966, 1962, 1983, 1984,\n",
       "       1933, 1931, 1922, 1998, 1927, 1929, 1930, 1928, 1999, 2000, 1925,\n",
       "       1923, 1918, 1921, 2001, 1924, 2002, 2003, 1920, 1915, 2004, 1916,\n",
       "       1917, 2005, 2006, 1902, 2007, 2008, 2009, 1919, 2010, 2011, 2012,\n",
       "       2013, 2014, 2015, 2016], dtype=int64)"
      ]
     },
     "execution_count": 439,
     "metadata": {},
     "output_type": "execute_result"
    }
   ],
   "source": [
    "movies_df['Year'].unique()"
   ]
  },
  {
   "cell_type": "code",
   "execution_count": 430,
   "metadata": {},
   "outputs": [
    {
     "data": {
      "text/html": [
       "<div>\n",
       "<style>\n",
       "    .dataframe thead tr:only-child th {\n",
       "        text-align: right;\n",
       "    }\n",
       "\n",
       "    .dataframe thead th {\n",
       "        text-align: left;\n",
       "    }\n",
       "\n",
       "    .dataframe tbody tr th {\n",
       "        vertical-align: top;\n",
       "    }\n",
       "</style>\n",
       "<table border=\"1\" class=\"dataframe\">\n",
       "  <thead>\n",
       "    <tr style=\"text-align: right;\">\n",
       "      <th></th>\n",
       "      <th>MovieID</th>\n",
       "      <th>Title</th>\n",
       "      <th>Genres</th>\n",
       "      <th>Year</th>\n",
       "    </tr>\n",
       "  </thead>\n",
       "  <tbody>\n",
       "  </tbody>\n",
       "</table>\n",
       "</div>"
      ],
      "text/plain": [
       "Empty DataFrame\n",
       "Columns: [MovieID, Title, Genres, Year]\n",
       "Index: []"
      ]
     },
     "execution_count": 430,
     "metadata": {},
     "output_type": "execute_result"
    }
   ],
   "source": [
    "movies_df.drop(np.arange(movies_df.shape[0]))"
   ]
  },
  {
   "cell_type": "code",
   "execution_count": 422,
   "metadata": {},
   "outputs": [
    {
     "data": {
      "text/plain": [
       "array([1995, 1994, 1996, 1976, 1992, 1967, 1993, 1964, 1977, 1965, 1982,\n",
       "       1990, 1991, 1989, 1937, 1940, 1969, 1981, 1973, 1970, 1960, 1955,\n",
       "       1959, 1968, 1988, 1948, 1950, 1997, 1956, 1958, 1972, 1943, 1952,\n",
       "       1951, 1957, 1961, 1954, 1934, 1944, 1963, 1942, 1941, 1953, 1939,\n",
       "       1946, 1945, 1938, 1947, 1935, 1936, 1926, 1949, 1932, 1985, 1975,\n",
       "       1974, 1971, 1979, 1987, 1986, 1980, 1978, 1966, 1962, 1983, 1984,\n",
       "       1933, 1931, 1922, 1998, 1927, 1929, 1930, 1928, 1999, 2000, 1925,\n",
       "       1923, 1918, 1921, 2001, 1924, 2002, 2003, 1920, 1915, 2004, 1916,\n",
       "       1917, 2005, 2006, 1902, 2007, 2008, 2009, 1919, 2010, 2011, 2012,\n",
       "       2013, 2014, 2015, 2016], dtype=int64)"
      ]
     },
     "execution_count": 422,
     "metadata": {},
     "output_type": "execute_result"
    }
   ],
   "source": [
    "movies_df.drop()"
   ]
  },
  {
   "cell_type": "code",
   "execution_count": 399,
   "metadata": {
    "scrolled": true
   },
   "outputs": [
    {
     "data": {
      "text/plain": [
       "7645"
      ]
     },
     "execution_count": 399,
     "metadata": {},
     "output_type": "execute_result"
    }
   ],
   "source": [
    "np.random.choice(movies_df.loc[movies_df['Year'] ==2010,'Year'].index)"
   ]
  },
  {
   "cell_type": "code",
   "execution_count": 414,
   "metadata": {},
   "outputs": [
    {
     "name": "stdout",
     "output_type": "stream",
     "text": [
      "(9125, 4)\n",
      "(9125, 4)\n"
     ]
    }
   ],
   "source": [
    "print movies_df.shape\n",
    "bootstraps = bootstrapdf(movies_df,1000,2010)\n",
    "print movies_df.shape"
   ]
  },
  {
   "cell_type": "code",
   "execution_count": 415,
   "metadata": {},
   "outputs": [
    {
     "data": {
      "text/html": [
       "<div>\n",
       "<style>\n",
       "    .dataframe thead tr:only-child th {\n",
       "        text-align: right;\n",
       "    }\n",
       "\n",
       "    .dataframe thead th {\n",
       "        text-align: left;\n",
       "    }\n",
       "\n",
       "    .dataframe tbody tr th {\n",
       "        vertical-align: top;\n",
       "    }\n",
       "</style>\n",
       "<table border=\"1\" class=\"dataframe\">\n",
       "  <thead>\n",
       "    <tr style=\"text-align: right;\">\n",
       "      <th></th>\n",
       "      <th>MovieID</th>\n",
       "      <th>Title</th>\n",
       "      <th>Genres</th>\n",
       "      <th>Year</th>\n",
       "    </tr>\n",
       "  </thead>\n",
       "  <tbody>\n",
       "    <tr>\n",
       "      <th>0</th>\n",
       "      <td>81949</td>\n",
       "      <td>Romantics, The (2010)</td>\n",
       "      <td>Comedy|Drama|Romance</td>\n",
       "      <td>2010</td>\n",
       "    </tr>\n",
       "    <tr>\n",
       "      <th>1</th>\n",
       "      <td>79588</td>\n",
       "      <td>Charlie St. Cloud (2010)</td>\n",
       "      <td>Drama|Fantasy|Romance</td>\n",
       "      <td>2010</td>\n",
       "    </tr>\n",
       "    <tr>\n",
       "      <th>2</th>\n",
       "      <td>81782</td>\n",
       "      <td>Unstoppable (2010)</td>\n",
       "      <td>Action|Drama|Thriller</td>\n",
       "      <td>2010</td>\n",
       "    </tr>\n",
       "    <tr>\n",
       "      <th>3</th>\n",
       "      <td>87298</td>\n",
       "      <td>Everything Must Go (2010)</td>\n",
       "      <td>Comedy|Drama</td>\n",
       "      <td>2010</td>\n",
       "    </tr>\n",
       "    <tr>\n",
       "      <th>4</th>\n",
       "      <td>77837</td>\n",
       "      <td>You Don't Know Jack (2010)</td>\n",
       "      <td>Drama</td>\n",
       "      <td>2010</td>\n",
       "    </tr>\n",
       "    <tr>\n",
       "      <th>5</th>\n",
       "      <td>92048</td>\n",
       "      <td>Whistleblower, The (2010)</td>\n",
       "      <td>Drama|Thriller</td>\n",
       "      <td>2010</td>\n",
       "    </tr>\n",
       "    <tr>\n",
       "      <th>6</th>\n",
       "      <td>82527</td>\n",
       "      <td>Barney's Version (2010)</td>\n",
       "      <td>Drama</td>\n",
       "      <td>2010</td>\n",
       "    </tr>\n",
       "    <tr>\n",
       "      <th>7</th>\n",
       "      <td>79274</td>\n",
       "      <td>Batman: Under the Red Hood (2010)</td>\n",
       "      <td>Action|Animation</td>\n",
       "      <td>2010</td>\n",
       "    </tr>\n",
       "    <tr>\n",
       "      <th>8</th>\n",
       "      <td>81191</td>\n",
       "      <td>Waiting for 'Superman' (2010)</td>\n",
       "      <td>Documentary</td>\n",
       "      <td>2010</td>\n",
       "    </tr>\n",
       "    <tr>\n",
       "      <th>9</th>\n",
       "      <td>85342</td>\n",
       "      <td>Elite Squad: The Enemy Within (Tropa de Elite ...</td>\n",
       "      <td>Action|Crime|Drama</td>\n",
       "      <td>2010</td>\n",
       "    </tr>\n",
       "    <tr>\n",
       "      <th>10</th>\n",
       "      <td>82852</td>\n",
       "      <td>Little Fockers (2010)</td>\n",
       "      <td>Comedy</td>\n",
       "      <td>2010</td>\n",
       "    </tr>\n",
       "    <tr>\n",
       "      <th>11</th>\n",
       "      <td>80126</td>\n",
       "      <td>American, The (2010)</td>\n",
       "      <td>Drama|Thriller</td>\n",
       "      <td>2010</td>\n",
       "    </tr>\n",
       "    <tr>\n",
       "      <th>12</th>\n",
       "      <td>82093</td>\n",
       "      <td>London Boulevard (2010)</td>\n",
       "      <td>Crime|Romance</td>\n",
       "      <td>2010</td>\n",
       "    </tr>\n",
       "    <tr>\n",
       "      <th>13</th>\n",
       "      <td>81782</td>\n",
       "      <td>Unstoppable (2010)</td>\n",
       "      <td>Action|Drama|Thriller</td>\n",
       "      <td>2010</td>\n",
       "    </tr>\n",
       "    <tr>\n",
       "      <th>14</th>\n",
       "      <td>81138</td>\n",
       "      <td>7 Days (Les 7 jours du talion) (2010)</td>\n",
       "      <td>Thriller</td>\n",
       "      <td>2010</td>\n",
       "    </tr>\n",
       "    <tr>\n",
       "      <th>15</th>\n",
       "      <td>81562</td>\n",
       "      <td>127 Hours (2010)</td>\n",
       "      <td>Adventure|Drama|Thriller</td>\n",
       "      <td>2010</td>\n",
       "    </tr>\n",
       "    <tr>\n",
       "      <th>16</th>\n",
       "      <td>82459</td>\n",
       "      <td>True Grit (2010)</td>\n",
       "      <td>Western</td>\n",
       "      <td>2010</td>\n",
       "    </tr>\n",
       "    <tr>\n",
       "      <th>17</th>\n",
       "      <td>75341</td>\n",
       "      <td>Remember Me (2010)</td>\n",
       "      <td>Drama|Romance</td>\n",
       "      <td>2010</td>\n",
       "    </tr>\n",
       "    <tr>\n",
       "      <th>18</th>\n",
       "      <td>74545</td>\n",
       "      <td>Ghost Writer, The (2010)</td>\n",
       "      <td>Drama|Mystery|Thriller</td>\n",
       "      <td>2010</td>\n",
       "    </tr>\n",
       "    <tr>\n",
       "      <th>19</th>\n",
       "      <td>86345</td>\n",
       "      <td>Louis C.K.: Hilarious (2010)</td>\n",
       "      <td>Comedy</td>\n",
       "      <td>2010</td>\n",
       "    </tr>\n",
       "    <tr>\n",
       "      <th>20</th>\n",
       "      <td>104419</td>\n",
       "      <td>Justice League: Crisis on Two Earths (2010)</td>\n",
       "      <td>Action|Animation|Sci-Fi</td>\n",
       "      <td>2010</td>\n",
       "    </tr>\n",
       "    <tr>\n",
       "      <th>21</th>\n",
       "      <td>78517</td>\n",
       "      <td>Joan Rivers: A Piece of Work (2010)</td>\n",
       "      <td>Documentary</td>\n",
       "      <td>2010</td>\n",
       "    </tr>\n",
       "    <tr>\n",
       "      <th>22</th>\n",
       "      <td>78316</td>\n",
       "      <td>Letters to Juliet (2010)</td>\n",
       "      <td>Drama|Romance</td>\n",
       "      <td>2010</td>\n",
       "    </tr>\n",
       "    <tr>\n",
       "      <th>23</th>\n",
       "      <td>77206</td>\n",
       "      <td>Diary of a Wimpy Kid (2010)</td>\n",
       "      <td>Children|Comedy</td>\n",
       "      <td>2010</td>\n",
       "    </tr>\n",
       "    <tr>\n",
       "      <th>24</th>\n",
       "      <td>83803</td>\n",
       "      <td>Day &amp; Night (2010)</td>\n",
       "      <td>Animation|Children</td>\n",
       "      <td>2010</td>\n",
       "    </tr>\n",
       "    <tr>\n",
       "      <th>25</th>\n",
       "      <td>82169</td>\n",
       "      <td>Chronicles of Narnia: The Voyage of the Dawn T...</td>\n",
       "      <td>Adventure|Children|Fantasy</td>\n",
       "      <td>2010</td>\n",
       "    </tr>\n",
       "    <tr>\n",
       "      <th>26</th>\n",
       "      <td>80831</td>\n",
       "      <td>Let Me In (2010)</td>\n",
       "      <td>Drama|Horror|Mystery</td>\n",
       "      <td>2010</td>\n",
       "    </tr>\n",
       "    <tr>\n",
       "      <th>27</th>\n",
       "      <td>79132</td>\n",
       "      <td>Inception (2010)</td>\n",
       "      <td>Action|Crime|Drama|Mystery|Sci-Fi|Thriller|IMAX</td>\n",
       "      <td>2010</td>\n",
       "    </tr>\n",
       "    <tr>\n",
       "      <th>28</th>\n",
       "      <td>78041</td>\n",
       "      <td>Killers (2010)</td>\n",
       "      <td>Action|Comedy</td>\n",
       "      <td>2010</td>\n",
       "    </tr>\n",
       "    <tr>\n",
       "      <th>29</th>\n",
       "      <td>75341</td>\n",
       "      <td>Remember Me (2010)</td>\n",
       "      <td>Drama|Romance</td>\n",
       "      <td>2010</td>\n",
       "    </tr>\n",
       "    <tr>\n",
       "      <th>...</th>\n",
       "      <td>...</td>\n",
       "      <td>...</td>\n",
       "      <td>...</td>\n",
       "      <td>...</td>\n",
       "    </tr>\n",
       "    <tr>\n",
       "      <th>970</th>\n",
       "      <td>80590</td>\n",
       "      <td>Wall Street: Money Never Sleeps (2010)</td>\n",
       "      <td>Drama</td>\n",
       "      <td>2010</td>\n",
       "    </tr>\n",
       "    <tr>\n",
       "      <th>971</th>\n",
       "      <td>73929</td>\n",
       "      <td>Legion (2010)</td>\n",
       "      <td>Action|Fantasy|Horror|Thriller</td>\n",
       "      <td>2010</td>\n",
       "    </tr>\n",
       "    <tr>\n",
       "      <th>972</th>\n",
       "      <td>86000</td>\n",
       "      <td>Boy (2010)</td>\n",
       "      <td>Comedy|Drama</td>\n",
       "      <td>2010</td>\n",
       "    </tr>\n",
       "    <tr>\n",
       "      <th>973</th>\n",
       "      <td>77866</td>\n",
       "      <td>Robin Hood (2010)</td>\n",
       "      <td>Action|Adventure|Drama|Romance|War</td>\n",
       "      <td>2010</td>\n",
       "    </tr>\n",
       "    <tr>\n",
       "      <th>974</th>\n",
       "      <td>80862</td>\n",
       "      <td>Catfish (2010)</td>\n",
       "      <td>Documentary|Mystery</td>\n",
       "      <td>2010</td>\n",
       "    </tr>\n",
       "    <tr>\n",
       "      <th>975</th>\n",
       "      <td>82534</td>\n",
       "      <td>Company Men, The (2010)</td>\n",
       "      <td>Drama</td>\n",
       "      <td>2010</td>\n",
       "    </tr>\n",
       "    <tr>\n",
       "      <th>976</th>\n",
       "      <td>87444</td>\n",
       "      <td>Elektra Luxx (2010)</td>\n",
       "      <td>Comedy</td>\n",
       "      <td>2010</td>\n",
       "    </tr>\n",
       "    <tr>\n",
       "      <th>977</th>\n",
       "      <td>78105</td>\n",
       "      <td>Prince of Persia: The Sands of Time (2010)</td>\n",
       "      <td>Action|Adventure|Fantasy|Romance|IMAX</td>\n",
       "      <td>2010</td>\n",
       "    </tr>\n",
       "    <tr>\n",
       "      <th>978</th>\n",
       "      <td>80463</td>\n",
       "      <td>Social Network, The (2010)</td>\n",
       "      <td>Drama</td>\n",
       "      <td>2010</td>\n",
       "    </tr>\n",
       "    <tr>\n",
       "      <th>979</th>\n",
       "      <td>83976</td>\n",
       "      <td>Trip, The (2010)</td>\n",
       "      <td>Comedy|Drama</td>\n",
       "      <td>2010</td>\n",
       "    </tr>\n",
       "    <tr>\n",
       "      <th>980</th>\n",
       "      <td>74530</td>\n",
       "      <td>Percy Jackson &amp; the Olympians: The Lightning T...</td>\n",
       "      <td>Adventure|Fantasy</td>\n",
       "      <td>2010</td>\n",
       "    </tr>\n",
       "    <tr>\n",
       "      <th>981</th>\n",
       "      <td>80586</td>\n",
       "      <td>Flipped (2010)</td>\n",
       "      <td>Comedy|Drama|Romance</td>\n",
       "      <td>2010</td>\n",
       "    </tr>\n",
       "    <tr>\n",
       "      <th>982</th>\n",
       "      <td>78517</td>\n",
       "      <td>Joan Rivers: A Piece of Work (2010)</td>\n",
       "      <td>Documentary</td>\n",
       "      <td>2010</td>\n",
       "    </tr>\n",
       "    <tr>\n",
       "      <th>983</th>\n",
       "      <td>81786</td>\n",
       "      <td>Certified Copy (Copie conforme) (2010)</td>\n",
       "      <td>Drama</td>\n",
       "      <td>2010</td>\n",
       "    </tr>\n",
       "    <tr>\n",
       "      <th>984</th>\n",
       "      <td>86142</td>\n",
       "      <td>13 Assassins (Jûsan-nin no shikaku) (2010)</td>\n",
       "      <td>Action</td>\n",
       "      <td>2010</td>\n",
       "    </tr>\n",
       "    <tr>\n",
       "      <th>985</th>\n",
       "      <td>81564</td>\n",
       "      <td>Megamind (2010)</td>\n",
       "      <td>Action|Animation|Children|Comedy|Sci-Fi|IMAX</td>\n",
       "      <td>2010</td>\n",
       "    </tr>\n",
       "    <tr>\n",
       "      <th>986</th>\n",
       "      <td>85401</td>\n",
       "      <td>Super (2010)</td>\n",
       "      <td>Action|Comedy|Drama</td>\n",
       "      <td>2010</td>\n",
       "    </tr>\n",
       "    <tr>\n",
       "      <th>987</th>\n",
       "      <td>80831</td>\n",
       "      <td>Let Me In (2010)</td>\n",
       "      <td>Drama|Horror|Mystery</td>\n",
       "      <td>2010</td>\n",
       "    </tr>\n",
       "    <tr>\n",
       "      <th>988</th>\n",
       "      <td>78209</td>\n",
       "      <td>Get Him to the Greek (2010)</td>\n",
       "      <td>Comedy</td>\n",
       "      <td>2010</td>\n",
       "    </tr>\n",
       "    <tr>\n",
       "      <th>989</th>\n",
       "      <td>83293</td>\n",
       "      <td>Waste Land (2010)</td>\n",
       "      <td>Documentary</td>\n",
       "      <td>2010</td>\n",
       "    </tr>\n",
       "    <tr>\n",
       "      <th>990</th>\n",
       "      <td>78209</td>\n",
       "      <td>Get Him to the Greek (2010)</td>\n",
       "      <td>Comedy</td>\n",
       "      <td>2010</td>\n",
       "    </tr>\n",
       "    <tr>\n",
       "      <th>991</th>\n",
       "      <td>75341</td>\n",
       "      <td>Remember Me (2010)</td>\n",
       "      <td>Drama|Romance</td>\n",
       "      <td>2010</td>\n",
       "    </tr>\n",
       "    <tr>\n",
       "      <th>992</th>\n",
       "      <td>80846</td>\n",
       "      <td>Devil (2010)</td>\n",
       "      <td>Horror|Mystery|Thriller</td>\n",
       "      <td>2010</td>\n",
       "    </tr>\n",
       "    <tr>\n",
       "      <th>993</th>\n",
       "      <td>81782</td>\n",
       "      <td>Unstoppable (2010)</td>\n",
       "      <td>Action|Drama|Thriller</td>\n",
       "      <td>2010</td>\n",
       "    </tr>\n",
       "    <tr>\n",
       "      <th>994</th>\n",
       "      <td>79139</td>\n",
       "      <td>Sorcerer's Apprentice, The (2010)</td>\n",
       "      <td>Action|Adventure|Children|Comedy|Fantasy</td>\n",
       "      <td>2010</td>\n",
       "    </tr>\n",
       "    <tr>\n",
       "      <th>995</th>\n",
       "      <td>86345</td>\n",
       "      <td>Louis C.K.: Hilarious (2010)</td>\n",
       "      <td>Comedy</td>\n",
       "      <td>2010</td>\n",
       "    </tr>\n",
       "    <tr>\n",
       "      <th>996</th>\n",
       "      <td>80219</td>\n",
       "      <td>Machete (2010)</td>\n",
       "      <td>Action|Adventure|Comedy|Crime|Thriller</td>\n",
       "      <td>2010</td>\n",
       "    </tr>\n",
       "    <tr>\n",
       "      <th>997</th>\n",
       "      <td>87304</td>\n",
       "      <td>Beginners (2010)</td>\n",
       "      <td>Drama</td>\n",
       "      <td>2010</td>\n",
       "    </tr>\n",
       "    <tr>\n",
       "      <th>998</th>\n",
       "      <td>77364</td>\n",
       "      <td>Losers, The (2010)</td>\n",
       "      <td>Action|Adventure|Drama|Mystery|Thriller</td>\n",
       "      <td>2010</td>\n",
       "    </tr>\n",
       "    <tr>\n",
       "      <th>999</th>\n",
       "      <td>87234</td>\n",
       "      <td>Submarine (2010)</td>\n",
       "      <td>Comedy|Drama|Romance</td>\n",
       "      <td>2010</td>\n",
       "    </tr>\n",
       "  </tbody>\n",
       "</table>\n",
       "<p>1000 rows × 4 columns</p>\n",
       "</div>"
      ],
      "text/plain": [
       "     MovieID                                              Title  \\\n",
       "0      81949                              Romantics, The (2010)   \n",
       "1      79588                           Charlie St. Cloud (2010)   \n",
       "2      81782                                 Unstoppable (2010)   \n",
       "3      87298                          Everything Must Go (2010)   \n",
       "4      77837                         You Don't Know Jack (2010)   \n",
       "5      92048                          Whistleblower, The (2010)   \n",
       "6      82527                            Barney's Version (2010)   \n",
       "7      79274                  Batman: Under the Red Hood (2010)   \n",
       "8      81191                      Waiting for 'Superman' (2010)   \n",
       "9      85342  Elite Squad: The Enemy Within (Tropa de Elite ...   \n",
       "10     82852                              Little Fockers (2010)   \n",
       "11     80126                               American, The (2010)   \n",
       "12     82093                            London Boulevard (2010)   \n",
       "13     81782                                 Unstoppable (2010)   \n",
       "14     81138              7 Days (Les 7 jours du talion) (2010)   \n",
       "15     81562                                   127 Hours (2010)   \n",
       "16     82459                                   True Grit (2010)   \n",
       "17     75341                                 Remember Me (2010)   \n",
       "18     74545                           Ghost Writer, The (2010)   \n",
       "19     86345                       Louis C.K.: Hilarious (2010)   \n",
       "20    104419        Justice League: Crisis on Two Earths (2010)   \n",
       "21     78517                Joan Rivers: A Piece of Work (2010)   \n",
       "22     78316                           Letters to Juliet (2010)   \n",
       "23     77206                        Diary of a Wimpy Kid (2010)   \n",
       "24     83803                                 Day & Night (2010)   \n",
       "25     82169  Chronicles of Narnia: The Voyage of the Dawn T...   \n",
       "26     80831                                   Let Me In (2010)   \n",
       "27     79132                                   Inception (2010)   \n",
       "28     78041                                     Killers (2010)   \n",
       "29     75341                                 Remember Me (2010)   \n",
       "..       ...                                                ...   \n",
       "970    80590             Wall Street: Money Never Sleeps (2010)   \n",
       "971    73929                                      Legion (2010)   \n",
       "972    86000                                         Boy (2010)   \n",
       "973    77866                                  Robin Hood (2010)   \n",
       "974    80862                                     Catfish (2010)   \n",
       "975    82534                            Company Men, The (2010)   \n",
       "976    87444                                Elektra Luxx (2010)   \n",
       "977    78105         Prince of Persia: The Sands of Time (2010)   \n",
       "978    80463                         Social Network, The (2010)   \n",
       "979    83976                                   Trip, The (2010)   \n",
       "980    74530  Percy Jackson & the Olympians: The Lightning T...   \n",
       "981    80586                                     Flipped (2010)   \n",
       "982    78517                Joan Rivers: A Piece of Work (2010)   \n",
       "983    81786             Certified Copy (Copie conforme) (2010)   \n",
       "984    86142         13 Assassins (Jûsan-nin no shikaku) (2010)   \n",
       "985    81564                                    Megamind (2010)   \n",
       "986    85401                                       Super (2010)   \n",
       "987    80831                                   Let Me In (2010)   \n",
       "988    78209                        Get Him to the Greek (2010)   \n",
       "989    83293                                  Waste Land (2010)   \n",
       "990    78209                        Get Him to the Greek (2010)   \n",
       "991    75341                                 Remember Me (2010)   \n",
       "992    80846                                       Devil (2010)   \n",
       "993    81782                                 Unstoppable (2010)   \n",
       "994    79139                  Sorcerer's Apprentice, The (2010)   \n",
       "995    86345                       Louis C.K.: Hilarious (2010)   \n",
       "996    80219                                     Machete (2010)   \n",
       "997    87304                                   Beginners (2010)   \n",
       "998    77364                                 Losers, The (2010)   \n",
       "999    87234                                   Submarine (2010)   \n",
       "\n",
       "                                              Genres  Year  \n",
       "0                               Comedy|Drama|Romance  2010  \n",
       "1                              Drama|Fantasy|Romance  2010  \n",
       "2                              Action|Drama|Thriller  2010  \n",
       "3                                       Comedy|Drama  2010  \n",
       "4                                              Drama  2010  \n",
       "5                                     Drama|Thriller  2010  \n",
       "6                                              Drama  2010  \n",
       "7                                   Action|Animation  2010  \n",
       "8                                        Documentary  2010  \n",
       "9                                 Action|Crime|Drama  2010  \n",
       "10                                            Comedy  2010  \n",
       "11                                    Drama|Thriller  2010  \n",
       "12                                     Crime|Romance  2010  \n",
       "13                             Action|Drama|Thriller  2010  \n",
       "14                                          Thriller  2010  \n",
       "15                          Adventure|Drama|Thriller  2010  \n",
       "16                                           Western  2010  \n",
       "17                                     Drama|Romance  2010  \n",
       "18                            Drama|Mystery|Thriller  2010  \n",
       "19                                            Comedy  2010  \n",
       "20                           Action|Animation|Sci-Fi  2010  \n",
       "21                                       Documentary  2010  \n",
       "22                                     Drama|Romance  2010  \n",
       "23                                   Children|Comedy  2010  \n",
       "24                                Animation|Children  2010  \n",
       "25                        Adventure|Children|Fantasy  2010  \n",
       "26                              Drama|Horror|Mystery  2010  \n",
       "27   Action|Crime|Drama|Mystery|Sci-Fi|Thriller|IMAX  2010  \n",
       "28                                     Action|Comedy  2010  \n",
       "29                                     Drama|Romance  2010  \n",
       "..                                               ...   ...  \n",
       "970                                            Drama  2010  \n",
       "971                   Action|Fantasy|Horror|Thriller  2010  \n",
       "972                                     Comedy|Drama  2010  \n",
       "973               Action|Adventure|Drama|Romance|War  2010  \n",
       "974                              Documentary|Mystery  2010  \n",
       "975                                            Drama  2010  \n",
       "976                                           Comedy  2010  \n",
       "977            Action|Adventure|Fantasy|Romance|IMAX  2010  \n",
       "978                                            Drama  2010  \n",
       "979                                     Comedy|Drama  2010  \n",
       "980                                Adventure|Fantasy  2010  \n",
       "981                             Comedy|Drama|Romance  2010  \n",
       "982                                      Documentary  2010  \n",
       "983                                            Drama  2010  \n",
       "984                                           Action  2010  \n",
       "985     Action|Animation|Children|Comedy|Sci-Fi|IMAX  2010  \n",
       "986                              Action|Comedy|Drama  2010  \n",
       "987                             Drama|Horror|Mystery  2010  \n",
       "988                                           Comedy  2010  \n",
       "989                                      Documentary  2010  \n",
       "990                                           Comedy  2010  \n",
       "991                                    Drama|Romance  2010  \n",
       "992                          Horror|Mystery|Thriller  2010  \n",
       "993                            Action|Drama|Thriller  2010  \n",
       "994         Action|Adventure|Children|Comedy|Fantasy  2010  \n",
       "995                                           Comedy  2010  \n",
       "996           Action|Adventure|Comedy|Crime|Thriller  2010  \n",
       "997                                            Drama  2010  \n",
       "998          Action|Adventure|Drama|Mystery|Thriller  2010  \n",
       "999                             Comedy|Drama|Romance  2010  \n",
       "\n",
       "[1000 rows x 4 columns]"
      ]
     },
     "execution_count": 415,
     "metadata": {},
     "output_type": "execute_result"
    }
   ],
   "source": [
    "bootstraps"
   ]
  },
  {
   "cell_type": "code",
   "execution_count": 402,
   "metadata": {},
   "outputs": [
    {
     "data": {
      "text/html": [
       "<div>\n",
       "<style>\n",
       "    .dataframe thead tr:only-child th {\n",
       "        text-align: right;\n",
       "    }\n",
       "\n",
       "    .dataframe thead th {\n",
       "        text-align: left;\n",
       "    }\n",
       "\n",
       "    .dataframe tbody tr th {\n",
       "        vertical-align: top;\n",
       "    }\n",
       "</style>\n",
       "<table border=\"1\" class=\"dataframe\">\n",
       "  <thead>\n",
       "    <tr style=\"text-align: right;\">\n",
       "      <th></th>\n",
       "      <th>MovieID</th>\n",
       "      <th>Title</th>\n",
       "      <th>Genres</th>\n",
       "      <th>Year</th>\n",
       "    </tr>\n",
       "  </thead>\n",
       "  <tbody>\n",
       "    <tr>\n",
       "      <th>7645</th>\n",
       "      <td>81018</td>\n",
       "      <td>Illusionist, The (L'illusionniste) (2010)</td>\n",
       "      <td>Animation</td>\n",
       "      <td>2010</td>\n",
       "    </tr>\n",
       "  </tbody>\n",
       "</table>\n",
       "</div>"
      ],
      "text/plain": [
       "      MovieID                                      Title     Genres  Year\n",
       "7645    81018  Illusionist, The (L'illusionniste) (2010)  Animation  2010"
      ]
     },
     "execution_count": 402,
     "metadata": {},
     "output_type": "execute_result"
    }
   ],
   "source": [
    "movies_df.iloc[[7645]]"
   ]
  },
  {
   "cell_type": "code",
   "execution_count": null,
   "metadata": {
    "collapsed": true
   },
   "outputs": [],
   "source": []
  },
  {
   "cell_type": "code",
   "execution_count": 317,
   "metadata": {
    "collapsed": true
   },
   "outputs": [
    {
     "data": {
      "text/plain": [
       "array(['(1995)', '(1994)', '(1996)', '(1976)', '(1992)', '(1967)',\n",
       "       '(1993)', '(1964)', '(1977)', '(1965)', '(1982)', '(1990)',\n",
       "       '(1991)', '(1989)', '(1937)', '(1940)', '(1969)', '(1981)',\n",
       "       '(1973)', '(1970)', '(1960)', '(1955)', '(1959)', '(1968)',\n",
       "       '(1988)', '(1948)', '(1950)', '(1997)', '(1956)', '(1958)',\n",
       "       '(1972)', '(1943)', '(1952)', '(1951)', '(1957)', '(1961)',\n",
       "       '(1954)', '(1934)', '(1944)', '(1963)', '(1942)', '(1941)',\n",
       "       '(1953)', '(1939)', '(1946)', '(1945)', '(1938)', '(1947)',\n",
       "       '(1935)', '(1936)', '(1926)', '(1949)', '(1932)', '(1985)',\n",
       "       '(1975)', '(1974)', '(1971)', '(1979)', '(1987)', '(1986)',\n",
       "       '(1980)', '(1978)', '(1966)', '(1962)', '(1983)', '(1984)',\n",
       "       '(1933)', '(1931)', '(1922)', '(1998)', '(1927)', '(1929)',\n",
       "       '(1930)', '(1928)', '(1999)', '(2000)', '(1925)', '(1923)',\n",
       "       '(1918)', '(1921)', '(2001)', '(1924)', '(2002)', '(2003)',\n",
       "       '(1920)', '(1915)', '(2004)', '(1916)', '(1917)', '(2005)',\n",
       "       '(2006)', '(1902)', '(2007)', '(2008)', '(2009)', '(1919)',\n",
       "       '(2010)', '(2011)', '1986) ', '(2012)', '2011) ', '(2013)',\n",
       "       '(2014)', '2007-)', '-1979)', '2010) ', '(2015)', '(2016)'], dtype=object)"
      ]
     },
     "execution_count": 317,
     "metadata": {},
     "output_type": "execute_result"
    }
   ],
   "source": []
  },
  {
   "cell_type": "code",
   "execution_count": 320,
   "metadata": {},
   "outputs": [
    {
     "ename": "NameError",
     "evalue": "name 'users_df' is not defined",
     "output_type": "error",
     "traceback": [
      "\u001b[1;31m\u001b[0m",
      "\u001b[1;31mNameError\u001b[0mTraceback (most recent call last)",
      "\u001b[1;32m<ipython-input-320-f2bc9bb1b828>\u001b[0m in \u001b[0;36m<module>\u001b[1;34m()\u001b[0m\n\u001b[0;32m      2\u001b[0m \u001b[0mplt\u001b[0m\u001b[1;33m.\u001b[0m\u001b[0mstyle\u001b[0m\u001b[1;33m.\u001b[0m\u001b[0muse\u001b[0m\u001b[1;33m(\u001b[0m\u001b[1;34m'fivethirtyeight'\u001b[0m\u001b[1;33m)\u001b[0m\u001b[1;33m\u001b[0m\u001b[0m\n\u001b[0;32m      3\u001b[0m \u001b[1;31m#plt.hist(users_df.Age.value_counts())\u001b[0m\u001b[1;33m\u001b[0m\u001b[1;33m\u001b[0m\u001b[0m\n\u001b[1;32m----> 4\u001b[1;33m \u001b[0msns\u001b[0m\u001b[1;33m.\u001b[0m\u001b[0mcountplot\u001b[0m\u001b[1;33m(\u001b[0m\u001b[0mx\u001b[0m\u001b[1;33m=\u001b[0m\u001b[0musers_df\u001b[0m\u001b[1;33m.\u001b[0m\u001b[0mAge\u001b[0m\u001b[1;33m,\u001b[0m \u001b[0mhue\u001b[0m\u001b[1;33m=\u001b[0m\u001b[1;34m'Gender'\u001b[0m\u001b[1;33m,\u001b[0m \u001b[0mdata\u001b[0m \u001b[1;33m=\u001b[0m \u001b[0musers_df\u001b[0m\u001b[1;33m)\u001b[0m\u001b[1;33m\u001b[0m\u001b[0m\n\u001b[0m\u001b[0;32m      5\u001b[0m \u001b[1;32mprint\u001b[0m \u001b[1;34m'Male users:'\u001b[0m \u001b[1;33m+\u001b[0m \u001b[0mstr\u001b[0m\u001b[1;33m(\u001b[0m\u001b[0musers_df\u001b[0m\u001b[1;33m.\u001b[0m\u001b[0mGender\u001b[0m\u001b[1;33m.\u001b[0m\u001b[0mvalue_counts\u001b[0m\u001b[1;33m(\u001b[0m\u001b[1;33m)\u001b[0m\u001b[1;33m.\u001b[0m\u001b[0mvalues\u001b[0m\u001b[1;33m[\u001b[0m\u001b[1;36m0\u001b[0m\u001b[1;33m]\u001b[0m \u001b[1;33m/\u001b[0m \u001b[0mfloat\u001b[0m\u001b[1;33m(\u001b[0m\u001b[0musers_df\u001b[0m\u001b[1;33m.\u001b[0m\u001b[0mGender\u001b[0m\u001b[1;33m.\u001b[0m\u001b[0mvalue_counts\u001b[0m\u001b[1;33m(\u001b[0m\u001b[1;33m)\u001b[0m\u001b[1;33m.\u001b[0m\u001b[0mvalues\u001b[0m\u001b[1;33m.\u001b[0m\u001b[0msum\u001b[0m\u001b[1;33m(\u001b[0m\u001b[1;33m)\u001b[0m\u001b[1;33m)\u001b[0m\u001b[1;33m)\u001b[0m\u001b[1;33m+\u001b[0m \u001b[1;34m'\\nFemale Users:'\u001b[0m \u001b[1;33m+\u001b[0m \u001b[0mstr\u001b[0m\u001b[1;33m(\u001b[0m\u001b[1;36m1\u001b[0m\u001b[1;33m-\u001b[0m\u001b[1;33m(\u001b[0m\u001b[1;33m(\u001b[0m\u001b[0musers_df\u001b[0m\u001b[1;33m.\u001b[0m\u001b[0mGender\u001b[0m\u001b[1;33m.\u001b[0m\u001b[0mvalue_counts\u001b[0m\u001b[1;33m(\u001b[0m\u001b[1;33m)\u001b[0m\u001b[1;33m.\u001b[0m\u001b[0mvalues\u001b[0m\u001b[1;33m[\u001b[0m\u001b[1;36m0\u001b[0m\u001b[1;33m]\u001b[0m \u001b[1;33m/\u001b[0m \u001b[0mfloat\u001b[0m\u001b[1;33m(\u001b[0m\u001b[0musers_df\u001b[0m\u001b[1;33m.\u001b[0m\u001b[0mGender\u001b[0m\u001b[1;33m.\u001b[0m\u001b[0mvalue_counts\u001b[0m\u001b[1;33m(\u001b[0m\u001b[1;33m)\u001b[0m\u001b[1;33m.\u001b[0m\u001b[0mvalues\u001b[0m\u001b[1;33m.\u001b[0m\u001b[0msum\u001b[0m\u001b[1;33m(\u001b[0m\u001b[1;33m)\u001b[0m\u001b[1;33m)\u001b[0m\u001b[1;33m)\u001b[0m\u001b[1;33m)\u001b[0m\u001b[1;33m)\u001b[0m\u001b[1;33m\u001b[0m\u001b[0m\n",
      "\u001b[1;31mNameError\u001b[0m: name 'users_df' is not defined"
     ]
    }
   ],
   "source": [
    "#users_df.Age.value_counts().plot(kind='bar')\n",
    "plt.style.use('fivethirtyeight')\n",
    "#plt.hist(users_df.Age.value_counts())\n",
    "sns.countplot(x=users_df.Age, hue='Gender', data = users_df)\n",
    "print 'Male users:' + str(users_df.Gender.value_counts().values[0] / float(users_df.Gender.value_counts().values.sum()))+ '\\nFemale Users:' + str(1-((users_df.Gender.value_counts().values[0] / float(users_df.Gender.value_counts().values.sum()))))"
   ]
  },
  {
   "cell_type": "code",
   "execution_count": null,
   "metadata": {},
   "outputs": [],
   "source": [
    "ratings_df.loc[ratings_df['MovieID'] == 1193].Rating.sum() / float(ratings_df.loc[ratings_df['MovieID'] == 1193].Rating.shape[0])"
   ]
  },
  {
   "cell_type": "code",
   "execution_count": null,
   "metadata": {},
   "outputs": [],
   "source": [
    "eda"
   ]
  },
  {
   "cell_type": "code",
   "execution_count": null,
   "metadata": {
    "collapsed": true
   },
   "outputs": [],
   "source": [
    "r_df[1].sum()"
   ]
  },
  {
   "cell_type": "code",
   "execution_count": null,
   "metadata": {
    "collapsed": true
   },
   "outputs": [],
   "source": [
    "r_df"
   ]
  },
  {
   "cell_type": "markdown",
   "metadata": {
    "collapsed": true
   },
   "source": [
    "### Cleaning done, EDA (not) done. Let's move on to Singular Value Decomposition"
   ]
  },
  {
   "cell_type": "markdown",
   "metadata": {},
   "source": [
    "For understanding:\n",
    "\n",
    "**U** is our 'users to concepts' matrix\n",
    "\n",
    "**sigma** is our 'concept strength' matrix, aka our Singular Values. Let's test with k=50 first. \n",
    "\n",
    "**Vt** is our 'movies to concepts' matrix\n",
    "\n",
    "Let's take a look at the spread of sigma. We will obvserve that there is an outlier in the singular value. \n",
    "\n"
   ]
  },
  {
   "cell_type": "code",
   "execution_count": null,
   "metadata": {
    "collapsed": true
   },
   "outputs": [],
   "source": [
    "from scipy.sparse.linalg import svds\n",
    "\n",
    "np.set_printoptions(suppress=True)\n"
   ]
  },
  {
   "cell_type": "code",
   "execution_count": null,
   "metadata": {
    "collapsed": true,
    "scrolled": true
   },
   "outputs": [],
   "source": [
    "U, sigma1, Vt = svds(r_demeaned, k = 50)\n",
    "sigma = np.diag(sigma1)\n",
    "print U.shape\n",
    "print sigma.shape\n",
    "print Vt.shape\n",
    "\n",
    "all_user_predicted_ratings = np.dot(np.dot(U, sigma), Vt) + user_ratings_mean.reshape(-1, 1)\n",
    "preds_df = pd.DataFrame(all_user_predicted_ratings, columns = r_df.columns)\n",
    "preds_df\n"
   ]
  },
  {
   "cell_type": "code",
   "execution_count": null,
   "metadata": {
    "collapsed": true
   },
   "outputs": [],
   "source": [
    "plt.figure(figsize=(8,5))\n",
    "sns.distplot(sigma1, axlabel='sigma', kde=False, color='red')"
   ]
  },
  {
   "cell_type": "markdown",
   "metadata": {},
   "source": [
    "The outlier is quite interesting. Let's examine our Vt to see which movies corrospond to that singular value."
   ]
  },
  {
   "cell_type": "code",
   "execution_count": null,
   "metadata": {
    "collapsed": true,
    "scrolled": true
   },
   "outputs": [],
   "source": [
    "#not done"
   ]
  },
  {
   "cell_type": "markdown",
   "metadata": {},
   "source": [
    "# Our first basic SVD recommender, returns \"top k recommendations\""
   ]
  },
  {
   "cell_type": "code",
   "execution_count": null,
   "metadata": {
    "collapsed": true,
    "scrolled": true
   },
   "outputs": [],
   "source": [
    "def recommend_movies(predictions_df, userID, movies_df, original_ratings_df, num_recommendations=5):\n",
    "    \n",
    "    # Get and sort the user's predictions\n",
    "    user_row_number = userID - 1 # UserID starts at 1, not 0\n",
    "    sorted_user_predictions = predictions_df.iloc[user_row_number].sort_values(ascending=False)\n",
    "    \n",
    "    # Get the user's data and merge in the movie information.\n",
    "    user_data = original_ratings_df[original_ratings_df.UserID == (userID)]\n",
    "    user_full = (user_data.merge(movies_df, how = 'left', left_on = 'MovieID', right_on = 'MovieID').\n",
    "                     sort_values(['Rating'], ascending=False)\n",
    "                 )\n",
    "\n",
    "    print 'User {0} has already rated {1} movies.'.format(userID, user_full.shape[0])\n",
    "    print 'Recommending the highest {0} predicted ratings movies not already rated.'.format(num_recommendations)\n",
    "    \n",
    "    # Recommend the highest predicted rating movies that the user hasn't seen yet.\n",
    "    recommendations = (movies_df[~movies_df['MovieID'].isin(user_full['MovieID'])].\n",
    "         merge(pd.DataFrame(sorted_user_predictions).reset_index(), how = 'left',\n",
    "               left_on = 'MovieID',\n",
    "               right_on = 'MovieID').\n",
    "         rename(columns = {user_row_number: 'Predictions'}).\n",
    "         sort_values('Predictions', ascending = False).\n",
    "                       iloc[:num_recommendations, :-1]\n",
    "                      )\n",
    "    print 'The recommended movies for User {0} are from these genres '.format(userID)\n",
    "    \n",
    "    print recommendations[recommendations.columns[recommendations[recommendations.columns].sum() !=0]].drop(['MovieID', 'Title', 'Genres', 'Year'], axis=1).sum().sort_values(ascending=False)\n",
    "    \n",
    "    return user_full, recommendations\n",
    "\n"
   ]
  },
  {
   "cell_type": "markdown",
   "metadata": {},
   "source": [
    "### Get predictions for a certain user"
   ]
  },
  {
   "cell_type": "code",
   "execution_count": null,
   "metadata": {
    "collapsed": true
   },
   "outputs": [],
   "source": [
    "already_rated, predictions = recommend_movies(preds_df, 1, movies_df, ratings_df, 10)\n",
    "predictions"
   ]
  },
  {
   "cell_type": "markdown",
   "metadata": {},
   "source": [
    "### At this point, some problems/things to improve:\n",
    "\n",
    "-Not using any non-rating data. Eg, Age, Gender, occupation of user not used, or genre of movie not used."
   ]
  },
  {
   "cell_type": "code",
   "execution_count": null,
   "metadata": {
    "collapsed": true
   },
   "outputs": [],
   "source": [
    "users_df = pd.DataFrame(users_list, columns=['UserID', 'Gender', 'Age', 'Occupation', 'Zip-code'])\n",
    "users_df.dtypes\n",
    "users_df.head()"
   ]
  },
  {
   "cell_type": "markdown",
   "metadata": {
    "collapsed": true
   },
   "source": [
    "# Evaluating the recommender system\n",
    "\n",
    "\n",
    "### Leave-k out testing\n",
    "\n",
    "A split percentage is chosen (eg 80% train, 20% test). The test percentage is selected randomly from non-zero ratings. \n",
    "\n",
    "Let's say we take 20% test. We will remove 20% of ratings randomly, do a prediction on this data with 'removed' figures. Then, compare the RMSE of the recommended items to the 'ground truth', and compute RMSE"
   ]
  },
  {
   "cell_type": "markdown",
   "metadata": {},
   "source": [
    "SVD with k = 50 returns RMSE of 0.635635973508\n"
   ]
  },
  {
   "cell_type": "code",
   "execution_count": null,
   "metadata": {
    "collapsed": true
   },
   "outputs": [],
   "source": [
    "def get_rmse(id_of_user, predictions, ratings, verbose=0):\n",
    "    #This function gets the RMSE of a single user. \n",
    "    row_of_user = id_of_user -1\n",
    "\n",
    "    rated_list = ratings[ratings['UserID'] == id_of_user].MovieID.values\n",
    "\n",
    "    non_zero_dict = {} #this dict contains the predictions of movies that the user has rated.\n",
    "    \n",
    "    for i in predictions.loc[row_of_user].index:\n",
    "        if i in rated_list:\n",
    "            non_zero_dict[i] = predictions.loc[row_of_user][i]\n",
    "    \n",
    "    rated_predictions = pd.DataFrame.from_dict(non_zero_dict, orient='index')\n",
    "    rated_predictions.sort_index(axis=0,inplace=True)\n",
    "    squared_error_list = (ratings[ratings['UserID'] == id_of_user].sort_values('MovieID').Rating \\\n",
    "    - rated_predictions.sort_index(axis=0)[0].values) **2\n",
    "    rmse = np.sqrt(squared_error_list.sum()) / rated_predictions.shape[0]\n",
    "    print 'RMSE for user ' + str(id_of_user) + ' is  ' + str(rmse)\n",
    "    if verbose==1:\n",
    "        print 'Here are the ratings the user has made '\n",
    "        print ratings[ratings['UserID'] == id_of_user]\n",
    "        print 'Here are the predicted ratings '\n",
    "        print rated_predictions\n",
    "    return np.sqrt(squared_error_list.sum()) / rated_predictions.shape[0],ratings[ratings['UserID'] == id_of_user] , rated_predictions, \n",
    "\n",
    "#Able to get RMSE of 1 user.\n",
    "#returns RMSE, the users ratings, and the predicted scores for those ratings."
   ]
  },
  {
   "cell_type": "code",
   "execution_count": null,
   "metadata": {
    "collapsed": true
   },
   "outputs": [],
   "source": [
    "get_rmse(5, preds_df, ratings_df, verbose=0)"
   ]
  },
  {
   "cell_type": "markdown",
   "metadata": {},
   "source": [
    "Now what we want to do is to create a framework to test different rec sys models. Testing process: \n",
    "\n",
    "-Hide some of the original ratings data.\n",
    "\n",
    "-Use our algorithim to create recommendations based on this data with hidden values.\n",
    "\n",
    "-Compare recommendations with our \"ground truth\", the original ratings data. Compute RMSE. "
   ]
  },
  {
   "cell_type": "code",
   "execution_count": null,
   "metadata": {
    "collapsed": true
   },
   "outputs": [],
   "source": [
    "def create_tester(ratings_data, n, svdk): \n",
    "    '''Input your ratings dataframe (where cols are products, rows are users, and each element is a rating.)\n",
    "    Function will create a copy of the ratings data, and remove 50% of the non-zero ratings from the first n rows, stored in\n",
    "    variable 'result'.\n",
    "    Recommender algo will run on 'result', and return RMSE. \n",
    "    \n",
    "    dataframe: input your ratings dataframe, where rows are users, columns are items.\n",
    "    k: number of rows to have values set to 0.\n",
    "    svdk: number of singular values to decompse our matrix to. \n",
    "    '''\n",
    "    \n",
    "    #Create array of the first K rows\n",
    "    temp_array = np.array(ratings_data.iloc[0:n])\n",
    "    print 'Initial ratings matrix shape:' + str(ratings_data.shape)\n",
    "    print 'Testing on '  + str(temp_array.shape[0]) + ' users, and ' + str(temp_array.shape[1]) + ' products.'\n",
    "    \n",
    "    #Change 50% of the values to 0 randomly \n",
    "    for index in np.nditer(temp_array, op_flags=['readwrite']):\n",
    "        chance = np.random.randint(1,3) \n",
    "        if chance == 1:\n",
    "            index[...] = 0 \n",
    "    \n",
    "    #Return a dataframe that has been modified by turning 50% of the ratings to 0.\n",
    "    temp_df = pd.DataFrame(temp_array, columns=r_df.columns)\n",
    "    result = temp_df.append(ratings_data.drop(ratings_data.index[:n], axis=0))\n",
    "\n",
    "    U, sigma, Vt = svds(result, k=svdk)\n",
    "    print 'Performing SVD with ' + str(svdk) + ' singular values.' \n",
    "    sigma = np.diag(sigma)\n",
    "    svd_preds = np.dot(np.dot(U, sigma), Vt)  #preds created. Now, compare svd_preds[:k] to ratings_data[:k]\n",
    "    #compute RMSE on BOTH rated and unrated movies. \n",
    "    rmse = np.sqrt((((np.array(svd_preds[:n]) - np.array(ratings_data[:n])) ** 2)   / float(svd_preds[:3000].size)).sum())\n",
    "    print 'RMSE is on our first ' + str(n) + ' users is ' + str(rmse)\n",
    "    return rmse\n"
   ]
  },
  {
   "cell_type": "markdown",
   "metadata": {},
   "source": [
    "### Changing the number of test columns\n",
    "\n",
    "create_tester(r_df, 1000, 50): RMSE is 0.36028181108\n",
    "\n",
    "create_tester(r_df, 2000, 50): RMSE is 0.525269490788\n",
    "\n",
    "create_tester(r_df, 3000, 50): RMSE is 0.635635973508\n",
    "\n",
    "create_tester(r_df, 4000, 50): RMSE is 0.743974498578\n",
    "\n",
    "create_tester(r_df, 5000, 50): RMSE is 0.836151654876\n",
    "\n",
    "\n",
    "\n",
    "### Changing the number of singular values\n",
    "\n",
    "\n",
    "create_tester(r_df, 1000, 10): RMSE is 0.3762543392\n",
    "\n",
    "create_tester(r_df, 1000, 20): RMSE is 0.368453061538\n",
    "\n",
    "create_tester(r_df, 1000, 30): RMSE is 0.368453061538\n",
    "\n",
    "create_tester(r_df, 1000, 40): RMSE is 0.361740924103\n",
    "\n",
    "create_tester(r_df, 1000, 50): RMSE is 0.360592796978\n"
   ]
  },
  {
   "cell_type": "markdown",
   "metadata": {},
   "source": [
    "### Which method should I use?\n",
    "\n",
    "\n",
    "\n",
    "* Jacard similarity: Not accurate, as it doesn't take into account the actual ratings. Under jacard similarity, ppl who have rated a lot of the same shows would be grouped as similiar, even if they have vastly different ratings for the shows.\n",
    "\n",
    "* Cosine distance:  More towards content based filtering. Problem: cosine similarity treats missing rating as negative. Solution: use centred cosine (AKA Pearson correlation). Normalise ratings for a given user by subtracting his average rating. \n",
    "\n",
    "* User-user collaborative filtering: Make a set of users who have similar preferences to our target user. Use the ratings of our set of users to predict if our target user will like the movie.\n",
    "\n",
    "* Item-item collaborative filtering: Instead of starting out with a user and finding similar user, we start with an item i, and find similar items to item i. Then, estimate the rating for item i based on ratings for similar items. "
   ]
  },
  {
   "cell_type": "code",
   "execution_count": null,
   "metadata": {
    "collapsed": true
   },
   "outputs": [],
   "source": [
    "\n"
   ]
  },
  {
   "cell_type": "markdown",
   "metadata": {},
   "source": [
    "### Here is the code if we want to inspect our get_rmse function. \n",
    "#Let's say, we want to find user 1.\n",
    "def get_rmse(id_of_user):\n",
    "#Grab the MovieID of movies he has rated, put it in rated_list\n",
    "    row_of_user = id_of_user -1\n",
    "\n",
    "    rated_list = ratings_df[ratings_df['UserID'] == id_of_user].MovieID.values\n",
    "\n",
    "#Using the MovieID in rated_list, fish out the predicted values from preds_df (prediction matrix)\n",
    "    non_zero_dict = {} #this dict contains the predictions of movies that the user has rated.\n",
    "    for i in preds_df.loc[row_of_user].index: # i is movieID\n",
    "        if i in rated_list:\n",
    "            non_zero_dict[i] = preds_df.loc[0][i]\n",
    "    print 'UserID ' + str(id_of_user) + ' has rated ' + str(len(rated_list)) + ' movies'    \n",
    "    print 'These are our predictions of movies he has already rated'\n",
    "    print non_zero_dict\n",
    "    print 'convert this dict to a pandas DF, then sort by movieID i guess'\n",
    "    rated_predictions = pd.DataFrame.from_dict(non_zero_dict, orient='index')\n",
    "    rated_predictions.sort_index(axis=0,inplace=True)\n",
    "    print rated_predictions[0].values\n",
    "    print 'These are his actual ratings'\n",
    "    print ratings_df[ratings_df['UserID'] == id_of_user].sort_values('MovieID')\n",
    "    print 'WE USE THESE VALUES:'\n",
    "    #print ratings_df[ratings_df['UserID'] ==id_of_user].MovieID.sort_index(axis=0)\n",
    "    print ratings_df[ratings_df['UserID'] == id_of_user].sort_values('MovieID').Rating\n",
    "    print 'TO MINUS OFF THESE VALUES: CORRECT?'\n",
    "    print rated_predictions.sort_index(axis=0)\n",
    "    #print non_zero_dict.values()\n",
    "    print 'CHECK: HERE IS MY DICT:'\n",
    "    print non_zero_dict\n",
    "    squared_error_list = (ratings_df[ratings_df['UserID'] == id_of_user].sort_values('MovieID').Rating \\\n",
    "    - rated_predictions.sort_index(axis=0)[0].values) **2\n",
    "    #user_rmse_sum = np.sqrt(sum((ratings_df[ratings_df['UserID'] ==id_of_user].Rating - non_zero_dict.values()) **2))\n",
    "    print 'her is the squared error'\n",
    "    print squared_error_list\n",
    "    print 'here is the sqrt of squared_error summed'\n",
    "    print np.sqrt(squared_error_list.sum())\n",
    "    print 'here is the number of things to divide by'\n",
    "    print rated_predictions.shape[0]\n",
    "    print 'here is the squared sum, divided by number of things'\n",
    "    return np.sqrt(squared_error_list.sum()) / rated_predictions.shape[0]\n",
    "\n",
    "    \n",
    "    "
   ]
  }
 ],
 "metadata": {
  "kernelspec": {
   "display_name": "Python 2",
   "language": "python",
   "name": "python2"
  },
  "language_info": {
   "codemirror_mode": {
    "name": "ipython",
    "version": 2
   },
   "file_extension": ".py",
   "mimetype": "text/x-python",
   "name": "python",
   "nbconvert_exporter": "python",
   "pygments_lexer": "ipython2",
   "version": "2.7.13"
  }
 },
 "nbformat": 4,
 "nbformat_minor": 2
}
