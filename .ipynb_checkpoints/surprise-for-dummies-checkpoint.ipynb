{
 "cells": [
  {
   "cell_type": "markdown",
   "metadata": {},
   "source": [
    "### Load movielens 1m. Transform it into Users:Movies matrix."
   ]
  },
  {
   "cell_type": "code",
   "execution_count": 2,
   "metadata": {},
   "outputs": [
    {
     "name": "stdout",
     "output_type": "stream",
     "text": [
      "(1000209, 4)\n"
     ]
    }
   ],
   "source": [
    "import pandas as pd\n",
    "import numpy as np\n",
    "import matplotlib.pyplot as plt\n",
    "import seaborn as sns\n",
    "%matplotlib inline\n",
    "\n",
    "ratings_list = [i.strip().split(\"::\") for i in open('ml-1m/ml-1m/ratings.dat', 'r').readlines()]\n",
    "users_list = [i.strip().split(\"::\") for i in open('ml-1m/ml-1m/users.dat', 'r').readlines()]\n",
    "movies_list = [i.strip().split(\"::\") for i in open('ml-1m/ml-1m/movies.dat', 'r').readlines()]\n",
    "#Turn the ratings_df and movies_df into pandas. \n",
    "ratings_df = pd.DataFrame(ratings_list, columns = ['UserID', 'MovieID', 'Rating', 'Timestamp'], dtype = int)\n",
    "movies_df = pd.DataFrame(movies_list, columns = ['MovieID', 'Title', 'Genres'])\n",
    "users_df = pd.DataFrame(users_list, columns=['UserID', 'Gender', 'Age', 'Occupation', 'Zip-code'])\n",
    "#Change MovieID column to numeric\n",
    "movies_df['MovieID'] = movies_df['MovieID'].apply(pd.to_numeric)\n",
    "\n",
    "#Transforming our ratings_df, from a VERY tall df, to: r_df, a less-tall, but VERY WIDE df. \n",
    "r_df= ratings_df.pivot(index = 'UserID', columns = 'MovieID', values='Rating') \n",
    "r_df.fillna(0, inplace=True)\n",
    "print ratings_df.shape\n",
    "# r_df is the ratings dataframe. \n",
    "\n",
    "r = r_df.as_matrix() #Set it as a matrix.\n",
    "r.shape #Shape is 6040, 3706\n",
    "user_ratings_mean = np.mean(r, axis=1) \n",
    "user_ratings_mean.shape #one long vector, which contains the mean of each row. shape 6040\n",
    "\n",
    "#normalise the data by each users mean. \n",
    "r_demeaned = r - user_ratings_mean.reshape(-1,1) \n",
    "#Need to reshape user_ratings_mean from a horizontal vector to a vertical vector.\n",
    "\n",
    "#r_demeaned: Each row contains ratings of a user. Each rating = [rating - mean rating] \n",
    "\n"
   ]
  },
  {
   "cell_type": "markdown",
   "metadata": {},
   "source": [
    "### Basic usage of Surprise"
   ]
  },
  {
   "cell_type": "code",
   "execution_count": 3,
   "metadata": {
    "collapsed": true
   },
   "outputs": [],
   "source": [
    "from surprise import SVD\n",
    "from surprise import Dataset\n",
    "from surprise import evaluate, print_perf\n",
    "from surprise import Reader\n",
    "from surprise import accuracy\n",
    "\n"
   ]
  },
  {
   "cell_type": "markdown",
   "metadata": {},
   "source": [
    "### Loading the data with Surprise.Reader, and setting k-folds"
   ]
  },
  {
   "cell_type": "code",
   "execution_count": 7,
   "metadata": {
    "collapsed": true
   },
   "outputs": [],
   "source": [
    "reader = Reader(rating_scale=(1,5))\n",
    "data = Dataset.load_from_df(ratings_df[['UserID', 'MovieID', 'Rating']], reader)\n",
    "data.split(n_folds = 4)\n",
    "\n"
   ]
  },
  {
   "cell_type": "markdown",
   "metadata": {},
   "source": [
    "# Prediction algos (KNN, SVD)\n",
    "\n",
    "How to interpret scores? \n",
    "\n",
    "** Mean absolute error (MAE) **\n",
    "\n",
    "The MAE measures the average magnitude of the errors in a set of forecasts, without considering their direction. It measures accuracy for continuous variables. The equation is given in the library references. Expressed in words, the MAE is the average over the verification sample of the absolute values of the differences between forecast and the corresponding observation. The MAE is a linear score which means that all the individual differences are weighted equally in the average.\n",
    "\n",
    "\n",
    "\n",
    "** Root mean squared error (RMSE) **\n",
    "\n",
    "The RMSE is a quadratic scoring rule which measures the average magnitude of the error. The equation for the RMSE is given in both of the references. Expressing the formula in words, the difference between forecast and corresponding observed values are each squared and then averaged over the sample. Finally, the square root of the average is taken. Since the errors are squared before they are averaged, the RMSE gives a relatively high weight to large errors. This means the RMSE is most useful when large errors are particularly undesirable.\n",
    "\n",
    "\n",
    "\n",
    "The MAE and the RMSE can be used together to diagnose the variation in the errors in a set of forecasts. The RMSE will always be larger or equal to the MAE; the greater difference between them, the greater the variance in the individual errors in the sample. If the RMSE=MAE, then all the errors are of the same magnitude"
   ]
  },
  {
   "cell_type": "markdown",
   "metadata": {},
   "source": [
    "### Let's try with KNN."
   ]
  },
  {
   "cell_type": "code",
   "execution_count": 11,
   "metadata": {},
   "outputs": [
    {
     "name": "stdout",
     "output_type": "stream",
     "text": [
      "Computing the msd similarity matrix...\n",
      "Done computing similarity matrix.\n"
     ]
    }
   ],
   "source": [
    "from surprise import KNNBasic\n",
    "trainset = data.build_full_trainset()\n",
    "\n",
    "algo = KNNBasic()\n",
    "\n",
    "algo.train(trainset)\n",
    "\n"
   ]
  },
  {
   "cell_type": "code",
   "execution_count": 12,
   "metadata": {},
   "outputs": [
    {
     "name": "stdout",
     "output_type": "stream",
     "text": [
      "Evaluating RMSE, MAE of algorithm KNNBasic.\n",
      "\n",
      "------------\n",
      "Fold 1\n",
      "Computing the msd similarity matrix...\n",
      "Done computing similarity matrix.\n",
      "RMSE: 0.9252\n",
      "MAE:  0.7301\n",
      "------------\n",
      "Fold 2\n",
      "Computing the msd similarity matrix...\n",
      "Done computing similarity matrix.\n",
      "RMSE: 0.9267\n",
      "MAE:  0.7302\n",
      "------------\n",
      "Fold 3\n",
      "Computing the msd similarity matrix...\n",
      "Done computing similarity matrix.\n",
      "RMSE: 0.9257\n",
      "MAE:  0.7302\n",
      "------------\n",
      "Fold 4\n",
      "Computing the msd similarity matrix...\n",
      "Done computing similarity matrix.\n",
      "RMSE: 0.9259\n",
      "MAE:  0.7299\n",
      "------------\n",
      "------------\n",
      "Mean RMSE: 0.9259\n",
      "Mean MAE : 0.7301\n",
      "------------\n",
      "------------\n"
     ]
    },
    {
     "data": {
      "text/plain": [
       "CaseInsensitiveDefaultDict(list,\n",
       "                           {u'mae': [0.73010309254636685,\n",
       "                             0.73016702384421495,\n",
       "                             0.73020945841487706,\n",
       "                             0.72988458437116954],\n",
       "                            u'rmse': [0.92515635019810027,\n",
       "                             0.92666893878278478,\n",
       "                             0.92572206018581238,\n",
       "                             0.92591154225677008]})"
      ]
     },
     "execution_count": 12,
     "metadata": {},
     "output_type": "execute_result"
    }
   ],
   "source": [
    "evaluate(algo,data)"
   ]
  },
  {
   "cell_type": "markdown",
   "metadata": {},
   "source": [
    "### Let's try with SVD"
   ]
  },
  {
   "cell_type": "code",
   "execution_count": 8,
   "metadata": {},
   "outputs": [
    {
     "name": "stdout",
     "output_type": "stream",
     "text": [
      "Evaluating RMSE, MAE of algorithm SVD.\n",
      "\n",
      "------------\n",
      "Fold 1\n",
      "RMSE: 0.8768\n",
      "MAE:  0.6913\n",
      "------------\n",
      "Fold 2\n",
      "RMSE: 0.8777\n",
      "MAE:  0.6909\n",
      "------------\n",
      "Fold 3\n",
      "RMSE: 0.8813\n",
      "MAE:  0.6950\n",
      "------------\n",
      "Fold 4\n",
      "RMSE: 0.8758\n",
      "MAE:  0.6894\n",
      "------------\n",
      "------------\n",
      "Mean RMSE: 0.8779\n",
      "Mean MAE : 0.6917\n",
      "------------\n",
      "------------\n"
     ]
    },
    {
     "data": {
      "text/plain": [
       "CaseInsensitiveDefaultDict(list,\n",
       "                           {u'mae': [0.69127108019084837,\n",
       "                             0.69094866618322071,\n",
       "                             0.69500832346157515,\n",
       "                             0.6894471773834564],\n",
       "                            u'rmse': [0.87684642640120536,\n",
       "                             0.8777020306766451,\n",
       "                             0.88126465640351348,\n",
       "                             0.87581871344637008]})"
      ]
     },
     "execution_count": 8,
     "metadata": {},
     "output_type": "execute_result"
    }
   ],
   "source": [
    "algo = SVD(n_factors = 10)\n",
    "evaluate(algo, data)\n",
    "\n",
    "# RMSE of 0.8732 means on average, our predicion was off by 0.8732\n"
   ]
  },
  {
   "cell_type": "code",
   "execution_count": 13,
   "metadata": {},
   "outputs": [
    {
     "name": "stdout",
     "output_type": "stream",
     "text": [
      "Evaluating RMSE, MAE of algorithm SVD.\n",
      "\n",
      "------------\n",
      "Fold 1\n",
      "RMSE: 0.8733\n",
      "MAE:  0.6867\n",
      "------------\n",
      "Fold 2\n",
      "RMSE: 0.8756\n",
      "MAE:  0.6879\n",
      "------------\n",
      "Fold 3\n",
      "RMSE: 0.8768\n",
      "MAE:  0.6891\n",
      "------------\n",
      "Fold 4\n",
      "RMSE: 0.8753\n",
      "MAE:  0.6876\n",
      "------------\n",
      "------------\n",
      "Mean RMSE: 0.8752\n",
      "Mean MAE : 0.6878\n",
      "------------\n",
      "------------\n"
     ]
    },
    {
     "data": {
      "text/plain": [
       "CaseInsensitiveDefaultDict(list,\n",
       "                           {u'mae': [0.68672967804118079,\n",
       "                             0.68793592546616544,\n",
       "                             0.68906590707554838,\n",
       "                             0.68757470182470737],\n",
       "                            u'rmse': [0.87330951052976979,\n",
       "                             0.87557203666490457,\n",
       "                             0.87676581865223235,\n",
       "                             0.87531121539261991]})"
      ]
     },
     "execution_count": 13,
     "metadata": {},
     "output_type": "execute_result"
    }
   ],
   "source": [
    "algo = SVD(n_factors = 50)\n",
    "evaluate(algo, data)\n"
   ]
  },
  {
   "cell_type": "code",
   "execution_count": null,
   "metadata": {
    "collapsed": true
   },
   "outputs": [],
   "source": []
  }
 ],
 "metadata": {
  "kernelspec": {
   "display_name": "Python 2",
   "language": "python",
   "name": "python2"
  },
  "language_info": {
   "codemirror_mode": {
    "name": "ipython",
    "version": 2
   },
   "file_extension": ".py",
   "mimetype": "text/x-python",
   "name": "python",
   "nbconvert_exporter": "python",
   "pygments_lexer": "ipython2",
   "version": "2.7.13"
  }
 },
 "nbformat": 4,
 "nbformat_minor": 2
}
